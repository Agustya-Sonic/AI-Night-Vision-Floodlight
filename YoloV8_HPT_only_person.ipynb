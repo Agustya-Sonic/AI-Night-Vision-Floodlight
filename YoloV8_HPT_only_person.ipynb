{
  "cells": [
    {
      "cell_type": "markdown",
      "source": [
        "##Installing Ultralytics"
      ],
      "metadata": {
        "id": "eDAQ4SfdT6FN"
      }
    },
    {
      "cell_type": "code",
      "execution_count": null,
      "metadata": {
        "id": "8YmHLQ81YHjU",
        "collapsed": true
      },
      "outputs": [],
      "source": [
        "! pip install ultralytics"
      ]
    },
    {
      "cell_type": "markdown",
      "source": [
        "##Mounting Google Drive to put the outputs in a specific folder"
      ],
      "metadata": {
        "id": "-pvUh4gXUAD2"
      }
    },
    {
      "cell_type": "code",
      "execution_count": null,
      "metadata": {
        "id": "HcvQ2RnaIAR0"
      },
      "outputs": [],
      "source": [
        "from google.colab import drive\n",
        "drive.mount('/content/drive')"
      ]
    },
    {
      "cell_type": "markdown",
      "metadata": {
        "id": "xJ0RfkrkkjJ7"
      },
      "source": [
        "### Use of Custom Dataset in google drive"
      ]
    },
    {
      "cell_type": "code",
      "execution_count": null,
      "metadata": {
        "id": "c_Vo5-zlltkP"
      },
      "outputs": [],
      "source": [
        "# set the data yaml file path\n",
        "data_yaml = \"/content/drive/MyDrive/1:1_Agustya_Sinha/Agustya_nightvision_person-2/data.yaml\""
      ]
    },
    {
      "cell_type": "markdown",
      "metadata": {
        "id": "AlbnV-9A4xLW"
      },
      "source": [
        "### Hyper-Parameter Tuning\n",
        "\n",
        "- Change the number of epochs and lrf (final learning rate) to tune and test the parameters."
      ]
    },
    {
      "cell_type": "code",
      "execution_count": null,
      "metadata": {
        "id": "OMeQ4WpvlR7-"
      },
      "outputs": [],
      "source": [
        "#Hyper parameters\n",
        "epochs = 50\n",
        "lr = 0.0001\n",
        "\n",
        "# Train the model\n",
        "! yolo task=detect mode=train model=yolov8s.pt data={data_yaml} optimizer=\"Adam\" epochs={epochs} imgsz=640 lr0={lr} name=yolov8n_custom\n",
        "\n",
        "# Evaluate the model\n",
        "#! yolo task=detect mode=val model=/content/runs/detect/yolov8n_custom/weights/best.pt data={data_yaml}"
      ]
    },
    {
      "cell_type": "markdown",
      "metadata": {
        "id": "HBUsLWJXNs_l"
      },
      "source": [
        "### Move the model and results to google drive"
      ]
    },
    {
      "cell_type": "code",
      "execution_count": null,
      "metadata": {
        "id": "6QT8A8pENw5-"
      },
      "outputs": [],
      "source": [
        "import shutil\n",
        "import os\n",
        "\n",
        "def create_directory(directory_path):\n",
        "    # Check if the directory exists\n",
        "    if not os.path.exists(directory_path):\n",
        "        # If it doesn't exist, create it\n",
        "        os.makedirs(directory_path)\n",
        "        print(f\"Directory '{directory_path}' created.\")\n",
        "    else:\n",
        "        print(f\"Directory '{directory_path}' already exists.\")\n",
        "\n",
        "# Specify the directory path you want to check/create\n",
        "\n",
        "model_name = 'yolov8_epochs_'+ str(epochs)+ '_lr_'+str(lr)\n",
        "model_folder = '/content/drive/MyDrive/1:1_Agustya_Sinha/Models/Only person/'\n",
        "destination_path = model_folder + model_name\n",
        "\n",
        "# Call the function to check and create the directory\n",
        "create_directory(destination_path)\n",
        "\n",
        "source_path = '/content/runs/detect/yolov8n_custom'\n",
        "shutil.move(source_path, destination_path)"
      ]
    }
  ],
  "metadata": {
    "accelerator": "GPU",
    "colab": {
      "gpuType": "T4",
      "provenance": []
    },
    "kernelspec": {
      "display_name": "Python 3",
      "name": "python3"
    },
    "language_info": {
      "name": "python"
    }
  },
  "nbformat": 4,
  "nbformat_minor": 0
}